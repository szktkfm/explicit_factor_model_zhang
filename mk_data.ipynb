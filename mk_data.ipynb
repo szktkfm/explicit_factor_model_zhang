{
 "cells": [
  {
   "cell_type": "markdown",
   "metadata": {},
   "source": [
    "# Explicit Factor Model [Zhang et al]"
   ]
  },
  {
   "cell_type": "code",
   "execution_count": 1,
   "metadata": {},
   "outputs": [],
   "source": [
    "import pickle\n",
    "import time\n",
    "from collections import deque\n",
    "\n",
    "from sklearn.utils import shuffle\n",
    "from sklearn.metrics import average_precision_score\n",
    "from sklearn.metrics import precision_recall_curve\n",
    "from sklearn.metrics import roc_auc_score\n",
    "\n",
    "import numpy as np\n",
    "import networkx as nx\n",
    "\n",
    "import torch\n",
    "import torch.nn as nn\n",
    "import torch.nn.functional as F\n",
    "import torch.optim as optim\n",
    "\n",
    "import matplotlib.pyplot as plt\n",
    "from multiprocessing import Pool\n",
    "\n",
    "from scipy.sparse import lil_matrix, csr_matrix, csc_matrix\n",
    "from scipy.sparse import vstack\n",
    "\n",
    "import sys\n",
    "\n",
    "torch.manual_seed(1)\n",
    "device = torch.device(\"cuda\" if torch.cuda.is_available() else \"cpu\")\n",
    "device = 'cpu'"
   ]
  },
  {
   "cell_type": "code",
   "execution_count": null,
   "metadata": {},
   "outputs": [],
   "source": []
  },
  {
   "cell_type": "markdown",
   "metadata": {},
   "source": [
    "## ネットワーク読み込み, implicit feed back, user/item辞書"
   ]
  },
  {
   "cell_type": "code",
   "execution_count": 30,
   "metadata": {},
   "outputs": [
    {
     "name": "stdout",
     "output_type": "stream",
     "text": [
      "30191\n",
      "8074\n"
     ]
    }
   ],
   "source": [
    "# ネットワーク\n",
    "KG = pickle.load(open('../knowledge_graph/trip_ad/trip_ad_graph.pickle', 'rb'))\n",
    "print(len(KG.edges()))\n",
    "print(len(KG.nodes()))"
   ]
  },
  {
   "cell_type": "code",
   "execution_count": 31,
   "metadata": {},
   "outputs": [
    {
     "name": "stdout",
     "output_type": "stream",
     "text": [
      "23029\n"
     ]
    }
   ],
   "source": [
    "# implicit feedback\n",
    "edges = list(KG.edges())\n",
    "# implicit feedback のedgeを格納\n",
    "implicit_feedback = []\n",
    "\n",
    "for e in edges:\n",
    "    if e[0][0:2] == 'u_':\n",
    "        implicit_feedback.append(e)\n",
    "    elif e[1][0:2] == 'u_':\n",
    "        implicit_feedback.append(e)\n",
    "        \n",
    "print(len(implicit_feedback))"
   ]
  },
  {
   "cell_type": "code",
   "execution_count": 32,
   "metadata": {},
   "outputs": [
    {
     "name": "stdout",
     "output_type": "stream",
     "text": [
      "user :6134\n",
      "item :1763\n"
     ]
    }
   ],
   "source": [
    "# user item dictionary\n",
    "user2idx = {}\n",
    "item2idx = {}\n",
    "user2idx2 = {}\n",
    "item2idx2 = {}\n",
    "user_list = []\n",
    "item_list = []\n",
    "user_list2 = []\n",
    "item_list2 = []\n",
    "\n",
    "for f in implicit_feedback:\n",
    "    if f[0][0:2] == 'u_':\n",
    "        user = f[0]\n",
    "        item = f[1]\n",
    "    else:\n",
    "        user = f[1]\n",
    "        item = f[0]\n",
    "        \n",
    "    if user not in user2idx:\n",
    "        user2idx[user[2:]] = len(user2idx)\n",
    "        user2idx2[user] = len(user2idx)\n",
    "    if item not in item2idx:\n",
    "        item2idx[item[2:]] = len(item2idx)\n",
    "        item2idx2[item] = len(item2idx)\n",
    "        \n",
    "        \n",
    "user_list = list(user2idx)\n",
    "item_list = list(item2idx)\n",
    "user_list2 = list(user2idx2)\n",
    "item_list2 = list(item2idx2)\n",
    "\n",
    "print('user :{}'.format(len(user_list)))\n",
    "print('item :{}'.format(len(item_list)))"
   ]
  },
  {
   "cell_type": "code",
   "execution_count": 41,
   "metadata": {},
   "outputs": [],
   "source": [
    "with open('user2idx.pickle', 'wb') as f:\n",
    "    pickle.dump(user2idx, f)\n",
    "with open('item2idx.pickle', 'wb') as f:\n",
    "    pickle.dump(item2idx, f)"
   ]
  },
  {
   "cell_type": "markdown",
   "metadata": {},
   "source": [
    "## aspectの行列"
   ]
  },
  {
   "cell_type": "code",
   "execution_count": 33,
   "metadata": {},
   "outputs": [],
   "source": [
    "user_aspect_dict = pickle.load(open('../trip_ad_test/aspect_word_feature/user_aspect_feat.pickle', 'rb'))\n",
    "item_aspect_dict = pickle.load(open('../trip_ad_test/aspect_word_feature/item_aspect_feat.pickle', 'rb'))"
   ]
  },
  {
   "cell_type": "markdown",
   "metadata": {},
   "source": [
    "## Negaデータづくり"
   ]
  },
  {
   "cell_type": "code",
   "execution_count": 34,
   "metadata": {},
   "outputs": [],
   "source": [
    "nega_data = []\n",
    "\n",
    "while len(nega_data) != len(implicit_feedback):\n",
    "    idx_u = np.random.randint(0, len(user_list))\n",
    "    idx_i = np.random.randint(0, len(item_list))\n",
    "\n",
    "    if (user_list[idx_u], item_list[idx_i]) in implicit_feedback:\n",
    "        continue\n",
    "    else:\n",
    "        nega_data.append((user_list2[idx_u], item_list2[idx_i]))\n",
    "    "
   ]
  },
  {
   "cell_type": "markdown",
   "metadata": {},
   "source": [
    "## NegaとPosi(Implicit Feedback)の中身を全てIDにする"
   ]
  },
  {
   "cell_type": "code",
   "execution_count": 35,
   "metadata": {},
   "outputs": [],
   "source": [
    "def swap_u_i(datas):\n",
    "    idx_list = []\n",
    "    for i in range(len(datas)):\n",
    "        datas[i] = list(datas[i])\n",
    "        if datas[i][0][0] == 'u':\n",
    "            \n",
    "            tmp = datas[i][0]\n",
    "            datas[i][0] = datas[i][1]\n",
    "            datas[i][1] = tmp \n",
    "        \n",
    "        idx_list.append([item2idx[datas[i][0][2:]], user2idx[datas[i][1][2:]]])\n",
    "            \n",
    "    return idx_list"
   ]
  },
  {
   "cell_type": "code",
   "execution_count": 36,
   "metadata": {},
   "outputs": [],
   "source": [
    "posi_data = np.array(swap_u_i(implicit_feedback))\n",
    "nega_data = np.array(swap_u_i(nega_data))"
   ]
  },
  {
   "cell_type": "code",
   "execution_count": null,
   "metadata": {},
   "outputs": [],
   "source": []
  },
  {
   "cell_type": "code",
   "execution_count": 40,
   "metadata": {},
   "outputs": [],
   "source": [
    "with open('posi_data.pickle', 'wb') as f:\n",
    "    pickle.dump(posi_data, f)\n",
    "with open('nega_data.pickle', 'wb') as f:\n",
    "    pickle.dump(nega_data, f)"
   ]
  }
 ],
 "metadata": {
  "kernelspec": {
   "display_name": "Python 3",
   "language": "python",
   "name": "python3"
  },
  "language_info": {
   "codemirror_mode": {
    "name": "ipython",
    "version": 3
   },
   "file_extension": ".py",
   "mimetype": "text/x-python",
   "name": "python",
   "nbconvert_exporter": "python",
   "pygments_lexer": "ipython3",
   "version": "3.6.8"
  }
 },
 "nbformat": 4,
 "nbformat_minor": 2
}
