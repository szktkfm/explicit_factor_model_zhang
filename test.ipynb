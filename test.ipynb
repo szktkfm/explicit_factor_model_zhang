{
 "cells": [
  {
   "cell_type": "markdown",
   "metadata": {},
   "source": [
    "# Explicit Factor Model [Zhang et al]"
   ]
  },
  {
   "cell_type": "code",
   "execution_count": 1,
   "metadata": {},
   "outputs": [],
   "source": [
    "import pickle\n",
    "import time\n",
    "from collections import deque\n",
    "\n",
    "from sklearn.utils import shuffle\n",
    "from sklearn.metrics import average_precision_score\n",
    "from sklearn.metrics import precision_recall_curve\n",
    "from sklearn.metrics import roc_auc_score\n",
    "\n",
    "import numpy as np\n",
    "import networkx as nx\n",
    "\n",
    "import torch\n",
    "import torch.nn as nn\n",
    "import torch.nn.functional as F\n",
    "import torch.optim as optim\n",
    "\n",
    "import matplotlib.pyplot as plt\n",
    "from multiprocessing import Pool\n",
    "\n",
    "from scipy.sparse import lil_matrix, csr_matrix, csc_matrix\n",
    "from scipy.sparse import vstack\n",
    "\n",
    "import sys\n",
    "import importlib\n",
    "\n",
    "import models\n",
    "import evaluate\n",
    "import iterate_train\n",
    "\n",
    "torch.manual_seed(1)\n",
    "device = torch.device(\"cuda\" if torch.cuda.is_available() else \"cpu\")\n",
    "device = 'cpu'"
   ]
  },
  {
   "cell_type": "markdown",
   "metadata": {},
   "source": [
    "## データ読み込み"
   ]
  },
  {
   "cell_type": "markdown",
   "metadata": {},
   "source": [
    "- posi and nega  \n",
    "- train/test split"
   ]
  },
  {
   "cell_type": "code",
   "execution_count": 2,
   "metadata": {},
   "outputs": [],
   "source": [
    "posi_data = pickle.load(open('./dataset/posi_data.pickle', 'rb'))\n",
    "nega_data = pickle.load(open('./dataset/nega_data.pickle', 'rb'))\n",
    "\n",
    "train_num = int(0.8 * len(posi_data))\n",
    "train_posi = posi_data[:train_num]\n",
    "test_posi = posi_data[train_num:]\n",
    "train_nega = nega_data[:train_num]\n",
    "test_nega = nega_data[train_num:]\n",
    "\n",
    "train_data = np.concatenate([train_posi, train_nega])"
   ]
  },
  {
   "cell_type": "code",
   "execution_count": 3,
   "metadata": {},
   "outputs": [],
   "source": [
    "target_train = np.array([1 for i in range(len(train_posi))] + [0 for i in range(len(train_nega))])\n",
    "target_test = np.array([1 for i in range(len(test_posi))] + [0 for i in range(len(test_nega))])"
   ]
  },
  {
   "cell_type": "markdown",
   "metadata": {},
   "source": [
    "- aspect"
   ]
  },
  {
   "cell_type": "code",
   "execution_count": 4,
   "metadata": {},
   "outputs": [],
   "source": [
    "user_aspect_dict = pickle.load(open('./dataset/aspect/user_aspect_dict.pickle', 'rb'))\n",
    "item_aspect_dict = pickle.load(open('./dataset/aspect/item_aspect_dict.pickle', 'rb'))"
   ]
  },
  {
   "cell_type": "markdown",
   "metadata": {},
   "source": [
    "- dict"
   ]
  },
  {
   "cell_type": "code",
   "execution_count": 5,
   "metadata": {},
   "outputs": [],
   "source": [
    "user2idx = pickle.load(open('./dataset/user_item_dict/user2idx.pickle', 'rb'))\n",
    "item2idx = pickle.load(open('./dataset/user_item_dict/item2idx.pickle', 'rb'))"
   ]
  },
  {
   "cell_type": "code",
   "execution_count": null,
   "metadata": {},
   "outputs": [],
   "source": [
    "if __name__ == '__main__':\n",
    "    # 諸々のサイズ\n",
    "    batch_size = 128\n",
    "    # Model 定義\n",
    "    user_num = len(user2idx) + 1\n",
    "    item_num = len(item2idx) + 1\n",
    "    aspect_num = 6\n",
    "    embed_size1 = 32\n",
    "    embed_size2 = 32\n",
    "    model = models.Zhang(user_num, item_num, aspect_num, embed_size1, embed_size2).to(device)\n",
    "    itrter = iterate_train.Iterater()\n",
    "    evlt = evaluate.Evalueter(user_num)\n",
    "    \n",
    "    epoch = 1000\n",
    "    evaluate_every = 5 \n",
    "    n_iter = int(len(train_data) / batch_size)\n",
    "    loss_list = []\n",
    "    ndcg_list = []\n",
    "    lr = 0.001\n",
    "    decay_every = 10\n",
    "    for i in range(epoch):\n",
    "        print('epoch: {}'.format(i+1))\n",
    "        loss_list.extend(itrter.iterate_train(model, train_data, target_train, user_aspect_dict, item_aspect_dict, n_iter=n_iter, batch_size=batch_size, learning_rate=lr, print_every=100, plot_every=100))\n",
    "        \n",
    "        if i % evaluate_every == 0:\n",
    "            #roc_auc = evaluate_ranking(rnn, metric='roc_auc')\n",
    "            start = time.time()\n",
    "            pr_auc, roc_auc = evlt.evaluate_ranking(model, test_posi, test_nega, metric='map')\n",
    "            #mi, sec = time_since(time.time() - start)\n",
    "            print('pr_roc :{}'.format(pr_auc))\n",
    "            print('roc_auc :{}'.format(roc_auc))\n",
    "            #print('{}m{}sec'.format(mi, sec))\n",
    "            \n",
    "            # modelを保存する\n",
    "            # model_name = 'gru_epoch' + str(i) + '.pickle'\n",
    "            # with open('./rnn_atten_model/' + model_name, 'wb') as f:\n",
    "            #    pickle.dump(model, f)\n",
    "                            \n",
    "                            \n",
    "        plt.plot(loss_list)\n",
    "        plt.show()\n",
    "        \n",
    "        if (i+1) % decay_every == 0:\n",
    "            #lr = lr / 2\n",
    "            lr = lr * 0.8\n",
    "        \n",
    "        print('-'*40)"
   ]
  }
 ],
 "metadata": {
  "kernelspec": {
   "display_name": "Python 3",
   "language": "python",
   "name": "python3"
  },
  "language_info": {
   "codemirror_mode": {
    "name": "ipython",
    "version": 3
   },
   "file_extension": ".py",
   "mimetype": "text/x-python",
   "name": "python",
   "nbconvert_exporter": "python",
   "pygments_lexer": "ipython3",
   "version": "3.6.8"
  }
 },
 "nbformat": 4,
 "nbformat_minor": 2
}
