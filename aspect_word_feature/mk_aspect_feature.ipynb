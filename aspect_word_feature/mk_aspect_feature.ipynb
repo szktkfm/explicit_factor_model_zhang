{
 "cells": [
  {
   "cell_type": "markdown",
   "metadata": {},
   "source": [
    "# aspectの特徴量を作る"
   ]
  },
  {
   "cell_type": "code",
   "execution_count": 25,
   "metadata": {},
   "outputs": [],
   "source": [
    "import codecs\n",
    "import pickle\n",
    "import glob\n",
    "import numpy as np\n",
    "import scipy.stats"
   ]
  },
  {
   "cell_type": "markdown",
   "metadata": {},
   "source": [
    "### 各aspect = topicの単語読み込み"
   ]
  },
  {
   "cell_type": "code",
   "execution_count": 3,
   "metadata": {},
   "outputs": [],
   "source": [
    "topic_word = []\n",
    "with codecs.open('hotel_bootstrapping_lda.dat', 'r', 'utf-8') as f:\n",
    "    for l in f:\n",
    "        topic_word.append(l.replace('\\n', '').split(' ')[1:])\n",
    "        "
   ]
  },
  {
   "cell_type": "markdown",
   "metadata": {},
   "source": [
    "### 各アイテムの各aspectに対するsentiment factorを読み込み"
   ]
  },
  {
   "cell_type": "code",
   "execution_count": 35,
   "metadata": {},
   "outputs": [
    {
     "name": "stdout",
     "output_type": "stream",
     "text": [
      "1759\n"
     ]
    }
   ],
   "source": [
    "hotel_aspect = []\n",
    "with open('prediction.dat', 'r') as f:\n",
    "    for l in f:\n",
    "        hotel_id = l.split('\\t')[0]\n",
    "        aspect = [float(a) for a in l.split('\\t')[9:15]]\n",
    "        hotel_aspect.append([hotel_id, aspect])\n",
    "        \n",
    "print(len(hotel_aspect))"
   ]
  },
  {
   "cell_type": "code",
   "execution_count": null,
   "metadata": {},
   "outputs": [],
   "source": []
  },
  {
   "cell_type": "markdown",
   "metadata": {},
   "source": [
    "sentiment factor $s_n^A$をスケーリングする。（平均０、分散１）"
   ]
  },
  {
   "cell_type": "code",
   "execution_count": 36,
   "metadata": {},
   "outputs": [],
   "source": [
    "s_mat = []\n",
    "hotel_id = []\n",
    "for idx, aspect in hotel_aspect:\n",
    "    hotel_id.append(idx)\n",
    "    s_mat.append(aspect)\n",
    "    \n",
    "hotel_aspect = scipy.stats.zscore(np.array(s_mat))"
   ]
  },
  {
   "cell_type": "markdown",
   "metadata": {},
   "source": [
    "`hotel_id`にホテルのID, `hotel_aspect`の各行がaspectになってる"
   ]
  },
  {
   "cell_type": "markdown",
   "metadata": {},
   "source": [
    "### userリストとネットワーク読み込み"
   ]
  },
  {
   "cell_type": "code",
   "execution_count": 5,
   "metadata": {},
   "outputs": [
    {
     "name": "stdout",
     "output_type": "stream",
     "text": [
      "30191\n",
      "8074\n"
     ]
    }
   ],
   "source": [
    "KG = pickle.load(open('../../knowledge_graph/trip_ad/trip_ad_graph.pickle', 'rb'))\n",
    "print(len(KG.edges()))\n",
    "print(len(KG.nodes()))\n",
    "\n",
    "\n",
    "edges = list(KG.edges())\n",
    "# implicit feedback のedgeを格納\n",
    "implicit_feedback = []\n",
    "\n",
    "for e in edges:\n",
    "    if e[0][0:2] == 'u_':\n",
    "        implicit_feedback.append(e)\n",
    "    elif e[1][0:2] == 'u_':\n",
    "        implicit_feedback.append(e)"
   ]
  },
  {
   "cell_type": "code",
   "execution_count": 6,
   "metadata": {},
   "outputs": [
    {
     "name": "stdout",
     "output_type": "stream",
     "text": [
      "user :6134\n",
      "item :1763\n"
     ]
    }
   ],
   "source": [
    "user2idx = {}\n",
    "item2idx = {}\n",
    "user_list = []\n",
    "item_list = []\n",
    "\n",
    "for f in implicit_feedback:\n",
    "    if f[0][0:2] == 'u_':\n",
    "        user = f[0]\n",
    "        item = f[1]\n",
    "    else:\n",
    "        user = f[1]\n",
    "        item = f[0]\n",
    "        \n",
    "    if user not in user2idx:\n",
    "        user2idx[user[2:]] = len(user2idx)\n",
    "    if item not in item2idx:\n",
    "        item2idx[item[2:]] = len(item2idx)\n",
    "        \n",
    "        \n",
    "user_list = list(user2idx)\n",
    "item_list = list(item2idx)\n",
    "\n",
    "print('user :{}'.format(len(user_list)))\n",
    "print('item :{}'.format(len(item_list)))"
   ]
  },
  {
   "cell_type": "markdown",
   "metadata": {},
   "source": [
    "### user/itemのレビュー読み込み\n",
    "- user-reviewの辞書を作る\n",
    "- item-reviewの辞書を作る"
   ]
  },
  {
   "cell_type": "code",
   "execution_count": 21,
   "metadata": {},
   "outputs": [],
   "source": [
    "# user-reviewの辞書を作る\n",
    "\n",
    "user2review = {}\n",
    "item2review = {}\n",
    "hotel_list = glob.glob('../../dataset/TripAdvisor/hotel_review/hotel*')\n",
    "\n",
    "count = 0\n",
    "\n",
    "for hotel in hotel_list:\n",
    "    \n",
    "    with codecs.open(hotel, 'r', 'utf-8') as f: \n",
    "        \n",
    "        item = hotel.split('_')[2].split('.')[0]\n",
    "        item_review = ''\n",
    "        user = ''\n",
    "        \n",
    "        for l in f:\n",
    "            if l[0:3] == '<Au':\n",
    "                user = l[8:].replace('\\n', '').replace('\\r', '')\n",
    "                \n",
    "            if l[0:3] == '<Co':\n",
    "                item_review += l[9:]\n",
    "                if user in user2review:\n",
    "                    user2review[user] = user2review[user] + l[9:]\n",
    "                else:\n",
    "                    #print(user)\n",
    "                    user2review[user] = l[9:]\n",
    "                user = ''\n",
    "        \n",
    "        item2review[item] = item_review\n",
    "    \n",
    "        \n",
    "    #count += 1\n",
    "    #if count > 5: \n",
    "    #    break\n",
    "        "
   ]
  },
  {
   "cell_type": "markdown",
   "metadata": {},
   "source": [
    "## aspectの特徴量を作る\n",
    "user-aspect_featureの辞書を作る  \n",
    "特徴量の作り方はZhang2014とHou2018のどちらかをとる。今回は  \n",
    "$p_u = \\frac{1}{1 + \\exp(-c_u^A)}$  \n",
    "$p_i = \\frac{1}{1 + \\exp(-s_i^Ac_i^A)}$"
   ]
  },
  {
   "cell_type": "code",
   "execution_count": 49,
   "metadata": {},
   "outputs": [],
   "source": [
    "def get_feat_user(revi):\n",
    "    feat = []\n",
    "    for words in topic_word:\n",
    "        count = 0\n",
    "        for w in words:\n",
    "            if w in revi: count += 1\n",
    "        feat.append(1 / (1 + np.exp(-1 * count)))\n",
    "        count = 0\n",
    "            \n",
    "    return feat\n",
    "\n",
    "def get_feat_item(revi, aspect):\n",
    "    feat = []\n",
    "    for i in range(len(topic_word)):\n",
    "        count = 0\n",
    "        for w in topic_word[i]:\n",
    "            if w in revi: count += 1\n",
    "        feat.append(1 / (1 + np.exp(-1 * count * aspect[i])))\n",
    "        count = 0\n",
    "            \n",
    "    return feat"
   ]
  },
  {
   "cell_type": "code",
   "execution_count": 50,
   "metadata": {},
   "outputs": [
    {
     "name": "stdout",
     "output_type": "stream",
     "text": [
      "Lemora\n",
      "marcus_p\n",
      "finnsino\n"
     ]
    }
   ],
   "source": [
    "user_aspect_dict = {}\n",
    "for user in user_list:\n",
    "    try:\n",
    "        feat = get_feat_user(user2review[user])\n",
    "    except:\n",
    "        print(user)\n",
    "        feat = [0,0,0,0,0,0]\n",
    "    user_aspect_dict[user] = feat"
   ]
  },
  {
   "cell_type": "code",
   "execution_count": 51,
   "metadata": {},
   "outputs": [
    {
     "name": "stdout",
     "output_type": "stream",
     "text": [
      "111969\n",
      "111974\n",
      "301028\n",
      "302139\n",
      "300154\n",
      "284441\n",
      "223408\n",
      "223129\n",
      "223120\n",
      "309180\n",
      "249682\n",
      "256733\n",
      "111978\n",
      "301770\n",
      "256734\n",
      "112007\n",
      "223133\n",
      "325490\n",
      "302012\n",
      "120831\n",
      "120852\n",
      "111983\n",
      "125161\n",
      "111993\n",
      "223128\n",
      "302144\n",
      "123524\n",
      "305304\n",
      "302020\n",
      "302835\n",
      "305313\n",
      "300859\n",
      "217522\n",
      "305365\n",
      "302853\n",
      "305294\n",
      "214170\n",
      "325491\n",
      "320080\n",
      "223130\n",
      "258882\n",
      "223116\n",
      "268257\n",
      "302934\n",
      "120822\n",
      "301762\n",
      "123519\n",
      "305293\n",
      "302137\n",
      "239900\n",
      "112000\n",
      "305290\n",
      "1159023\n",
      "301590\n",
      "223122\n",
      "235216\n",
      "223121\n",
      "302918\n",
      "120861\n",
      "305372\n",
      "305349\n",
      "1127236\n",
      "308433\n",
      "299851\n",
      "115251\n",
      "302931\n",
      "305370\n",
      "281614\n",
      "320079\n",
      "115244\n",
      "296344\n",
      "302919\n",
      "116270\n",
      "299735\n",
      "325519\n",
      "1159881\n",
      "120848\n",
      "305303\n",
      "218544\n",
      "308420\n",
      "325502\n",
      "241044\n",
      "1166502\n"
     ]
    }
   ],
   "source": [
    "item_aspect_dict = {}\n",
    "for item in item_list:\n",
    "    try:\n",
    "        idx = hotel_id.index(item)\n",
    "    except:\n",
    "        print(item)\n",
    "        item_aspect_dict[item] = [0,0,0,0,0,0]\n",
    "        continue\n",
    "    feat = get_feat_item(item2review[item], hotel_aspect[idx])\n",
    "    item_aspect_dict[item] = feat\n",
    "    "
   ]
  },
  {
   "cell_type": "code",
   "execution_count": 52,
   "metadata": {},
   "outputs": [
    {
     "data": {
      "text/plain": [
       "[0.999983298578152,\n",
       " 0.9999999999999982,\n",
       " 0.9990889488055994,\n",
       " 0.999983298578152,\n",
       " 0.999983298578152,\n",
       " 0.9999999847700205]"
      ]
     },
     "execution_count": 52,
     "metadata": {},
     "output_type": "execute_result"
    }
   ],
   "source": [
    "user_aspect_dict[user_list[670]]"
   ]
  },
  {
   "cell_type": "markdown",
   "metadata": {},
   "source": [
    "## user/item_aspect_featureを保存"
   ]
  },
  {
   "cell_type": "code",
   "execution_count": 54,
   "metadata": {},
   "outputs": [],
   "source": [
    "with open('user_aspect_feat.pickle', 'wb') as f:\n",
    "     pickle.dump(user_aspect_dict, f)\n",
    "        \n",
    "with open('item_aspect_feat.pickle', 'wb') as f:\n",
    "     pickle.dump(item_aspect_dict, f)"
   ]
  },
  {
   "cell_type": "code",
   "execution_count": 126,
   "metadata": {},
   "outputs": [],
   "source": [
    "with open('user_aspect_feat.pickle', 'rb') as f:\n",
    "    dic = pickle.load(f)"
   ]
  }
 ],
 "metadata": {
  "kernelspec": {
   "display_name": "Python 3",
   "language": "python",
   "name": "python3"
  },
  "language_info": {
   "codemirror_mode": {
    "name": "ipython",
    "version": 3
   },
   "file_extension": ".py",
   "mimetype": "text/x-python",
   "name": "python",
   "nbconvert_exporter": "python",
   "pygments_lexer": "ipython3",
   "version": "3.6.8"
  }
 },
 "nbformat": 4,
 "nbformat_minor": 2
}
