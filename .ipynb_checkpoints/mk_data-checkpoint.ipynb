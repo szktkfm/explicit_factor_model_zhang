{
 "cells": [
  {
   "cell_type": "markdown",
   "metadata": {},
   "source": [
    "# Explicit Factor Model [Zhang et al]"
   ]
  },
  {
   "cell_type": "code",
   "execution_count": 34,
   "metadata": {},
   "outputs": [],
   "source": [
    "import pickle\n",
    "import time\n",
    "from collections import deque\n",
    "\n",
    "from sklearn.utils import shuffle\n",
    "from sklearn.metrics import average_precision_score\n",
    "from sklearn.metrics import precision_recall_curve\n",
    "from sklearn.metrics import roc_auc_score\n",
    "\n",
    "import numpy as np\n",
    "import networkx as nx\n",
    "\n",
    "import torch\n",
    "import torch.nn as nn\n",
    "import torch.nn.functional as F\n",
    "import torch.optim as optim\n",
    "\n",
    "import matplotlib.pyplot as plt\n",
    "from multiprocessing import Pool\n",
    "\n",
    "from scipy.sparse import lil_matrix, csr_matrix, csc_matrix\n",
    "from scipy.sparse import vstack\n",
    "\n",
    "import sys\n",
    "\n",
    "torch.manual_seed(1)\n",
    "device = torch.device(\"cuda\" if torch.cuda.is_available() else \"cpu\")\n",
    "device = 'cpu'"
   ]
  },
  {
   "cell_type": "code",
   "execution_count": null,
   "metadata": {},
   "outputs": [],
   "source": []
  },
  {
   "cell_type": "markdown",
   "metadata": {},
   "source": [
    "## ネットワーク読み込み, implicit feed back, user/item辞書"
   ]
  },
  {
   "cell_type": "code",
   "execution_count": 35,
   "metadata": {},
   "outputs": [
    {
     "name": "stdout",
     "output_type": "stream",
     "text": [
      "30191\n",
      "8074\n"
     ]
    }
   ],
   "source": [
    "# ネットワーク\n",
    "KG = pickle.load(open('../knowledge_graph/trip_ad/trip_ad_graph.pickle', 'rb'))\n",
    "print(len(KG.edges()))\n",
    "print(len(KG.nodes()))"
   ]
  },
  {
   "cell_type": "code",
   "execution_count": 36,
   "metadata": {},
   "outputs": [
    {
     "name": "stdout",
     "output_type": "stream",
     "text": [
      "23029\n"
     ]
    }
   ],
   "source": [
    "# implicit feedback\n",
    "edges = list(KG.edges())\n",
    "# implicit feedback のedgeを格納\n",
    "implicit_feedback = []\n",
    "\n",
    "for e in edges:\n",
    "    if e[0][0:2] == 'u_':\n",
    "        implicit_feedback.append(e)\n",
    "    elif e[1][0:2] == 'u_':\n",
    "        implicit_feedback.append(e)\n",
    "        \n",
    "print(len(implicit_feedback))"
   ]
  },
  {
   "cell_type": "code",
   "execution_count": 37,
   "metadata": {},
   "outputs": [
    {
     "name": "stdout",
     "output_type": "stream",
     "text": [
      "user :6134\n",
      "item :1763\n"
     ]
    }
   ],
   "source": [
    "# user item dictionary\n",
    "user2idx = {}\n",
    "item2idx = {}\n",
    "user2idx2 = {}\n",
    "item2idx2 = {}\n",
    "user_list = []\n",
    "item_list = []\n",
    "user_list2 = []\n",
    "item_list2 = []\n",
    "\n",
    "for f in implicit_feedback:\n",
    "    if f[0][0:2] == 'u_':\n",
    "        user = f[0]\n",
    "        item = f[1]\n",
    "    else:\n",
    "        user = f[1]\n",
    "        item = f[0]\n",
    "        \n",
    "    if user not in user2idx:\n",
    "        user2idx[user[2:]] = len(user2idx)\n",
    "        user2idx2[user] = len(user2idx)\n",
    "    if item not in item2idx:\n",
    "        item2idx[item[2:]] = len(item2idx)\n",
    "        item2idx2[item] = len(item2idx)\n",
    "        \n",
    "        \n",
    "user_list = list(user2idx)\n",
    "item_list = list(item2idx)\n",
    "user_list2 = list(user2idx2)\n",
    "item_list2 = list(item2idx2)\n",
    "\n",
    "print('user :{}'.format(len(user_list)))\n",
    "print('item :{}'.format(len(item_list)))"
   ]
  },
  {
   "cell_type": "markdown",
   "metadata": {},
   "source": [
    "## aspectの行列"
   ]
  },
  {
   "cell_type": "code",
   "execution_count": 38,
   "metadata": {},
   "outputs": [],
   "source": [
    "user_aspect_dict = pickle.load(open('./aspect_word_feature/user_aspect_feat.pickle', 'rb'))\n",
    "item_aspect_dict = pickle.load(open('./aspect_word_feature/item_aspect_feat.pickle', 'rb'))"
   ]
  },
  {
   "cell_type": "markdown",
   "metadata": {},
   "source": [
    "## trian/testスプリット, target作り"
   ]
  },
  {
   "cell_type": "code",
   "execution_count": 39,
   "metadata": {},
   "outputs": [],
   "source": [
    "train_posi = []\n",
    "test_posi = []\n",
    "train_nega = []\n",
    "\n",
    "num_train = int(len(implicit_feedback) * 0.8)\n",
    "\n",
    "implicit_feedback = shuffle(implicit_feedback)\n",
    "\n",
    "train_posi = implicit_feedback[:num_train]\n",
    "test_posi = implicit_feedback[num_train:]"
   ]
  },
  {
   "cell_type": "code",
   "execution_count": 40,
   "metadata": {},
   "outputs": [],
   "source": [
    "nega_data = []\n",
    "\n",
    "while len(nega_data) != len(implicit_feedback):\n",
    "    idx_u = np.random.randint(0, len(user_list))\n",
    "    idx_i = np.random.randint(0, len(item_list))\n",
    "\n",
    "    if (user_list[idx_u], item_list[idx_i]) in implicit_feedback:\n",
    "        continue\n",
    "    else:\n",
    "        nega_data.append((user_list2[idx_u], item_list2[idx_i]))\n",
    "    "
   ]
  },
  {
   "cell_type": "code",
   "execution_count": 41,
   "metadata": {},
   "outputs": [],
   "source": [
    "nega_data = shuffle(nega_data)\n",
    "train_nega = nega_data[:num_train]\n",
    "test_nega = nega_data[num_train:]"
   ]
  },
  {
   "cell_type": "code",
   "execution_count": 42,
   "metadata": {},
   "outputs": [],
   "source": [
    "def swap_u_i(datas):\n",
    "    for i in range(len(datas)):\n",
    "        datas[i] = list(datas[i])\n",
    "        if datas[i][0][0] == 'u':\n",
    "            \n",
    "            tmp = datas[i][0]\n",
    "            datas[i][0] = datas[i][1]\n",
    "            datas[i][1] = tmp \n",
    "    return datas\n"
   ]
  },
  {
   "cell_type": "code",
   "execution_count": 43,
   "metadata": {},
   "outputs": [
    {
     "name": "stdout",
     "output_type": "stream",
     "text": [
      "num of train: 18423\n",
      "num of nega train: 18423\n",
      "num of test: 4606\n",
      "num of nega test: 4606\n"
     ]
    }
   ],
   "source": [
    "print('num of train: {}'.format(len(train_posi)))\n",
    "print('num of nega train: {}'.format(len(train_nega)))\n",
    "print('num of test: {}'.format(len(test_posi)))\n",
    "print('num of nega test: {}'.format(len(test_nega)))\n",
    "\n",
    "train_data = train_posi + train_nega\n",
    "target_train_posi = np.array([1 for i in range(len(train_posi))])\n",
    "target_train_nega = np.array([0 for i in range(len(train_nega))])\n",
    "target_train = np.concatenate([target_train_posi, target_train_nega])\n",
    "\n",
    "train_data = swap_u_i(train_data)\n",
    "test_posi = swap_u_i(test_posi)\n",
    "test_nega = swap_u_i(test_nega)\n",
    "        \n",
    "train_data = np.array([[data[1][2:], data[0][2:]] for data in train_data])\n",
    "test_posi = np.array([[data[1][2:], data[0][2:]] for data in test_posi])\n",
    "test_nega = np.array([[data[1][2:], data[0][2:]] for data in test_nega])"
   ]
  },
  {
   "cell_type": "code",
   "execution_count": null,
   "metadata": {},
   "outputs": [],
   "source": []
  },
  {
   "cell_type": "code",
   "execution_count": null,
   "metadata": {},
   "outputs": [],
   "source": []
  },
  {
   "cell_type": "markdown",
   "metadata": {},
   "source": [
    "## Model定義"
   ]
  },
  {
   "cell_type": "code",
   "execution_count": 11,
   "metadata": {},
   "outputs": [],
   "source": [
    "# https://www.kaggle.com/gennadylaptev/factorization-machine-implemented-in-pytorch\n",
    "class Zhang(nn.Module):\n",
    "    def __init__(self, user_num, item_num, aspect_num, embed_size1, embed_size2):\n",
    "        super().__init__()\n",
    "        \n",
    "        self.embed_u1 = nn.Embedding(user_num, embed_size1)\n",
    "        self.embed_u2 = nn.Embedding(user_num, embed_size2)\n",
    "        self.embed_i1 = nn.Embedding(item_num, embed_size1)\n",
    "        self.embed_i2 = nn.Embedding(item_num, embed_size2)\n",
    "        self.lin = nn.Linear(embed_size1, aspect_num)\n",
    "\n",
    "        \n",
    "    def forward(self, user_id, item_id):\n",
    "        u_v1 = self.embed_u1(user_id)\n",
    "        u_v2 = self.embed_u2(user_id)\n",
    "        i_v1 = self.embed_u1(item_id)\n",
    "        i_v2 = self.embed_u2(item_id)\n",
    "        \n",
    "        pred_asp_u = self.lin(u_v1)\n",
    "        pred_asp_i = self.lin(i_v1)\n",
    "        \n",
    "        prob = torch.cat([i_v1, i_v2], dim=1) * torch.cat([u_v1, u_v2], dim=1)\n",
    "        prob = torch.sigmoid(torch.sum(prob, dim=1))\n",
    "        \n",
    "        #out = torch.sigmoid(out.view(batch_size))\n",
    "        \n",
    "        return prob, pred_asp_u, pred_asp_i\n",
    "    \n",
    "    def predict(self, user_id, item_id):\n",
    "        u_v1 = self.embed_u1(user_id)\n",
    "        u_v2 = self.embed_u2(user_id)\n",
    "        i_v1 = self.embed_u1(item_id)\n",
    "        i_v2 = self.embed_u2(item_id)\n",
    "        \n",
    "        prob = torch.cat([i_v1, i_v2], dim=1) * torch.cat([u_v1, u_v2], dim=1)\n",
    "        prob = torch.sigmoid(torch.sum(prob, dim=1))\n",
    "        \n",
    "        return prob"
   ]
  },
  {
   "cell_type": "code",
   "execution_count": 12,
   "metadata": {},
   "outputs": [],
   "source": [
    "user_num = len(user_list)\n",
    "item_num = len(item_list)\n",
    "aspect_num = 6\n",
    "embed_size1 = 2\n",
    "embed_size2 = 3\n",
    "model = Zhang(user_num, item_num, aspect_num, embed_size1, embed_size2)"
   ]
  },
  {
   "cell_type": "code",
   "execution_count": 13,
   "metadata": {},
   "outputs": [
    {
     "data": {
      "text/plain": [
       "(tensor([0.9987, 0.9899], grad_fn=<SigmoidBackward>),\n",
       " tensor([[-0.3433, -0.7572,  1.7805, -0.1548,  0.2666,  0.3324],\n",
       "         [ 0.2861, -0.8542,  1.9039, -0.4043,  0.7664, -0.4774]],\n",
       "        grad_fn=<AddmmBackward>),\n",
       " tensor([[-0.3433, -0.7572,  1.7805, -0.1548,  0.2666,  0.3324],\n",
       "         [ 0.2861, -0.8542,  1.9039, -0.4043,  0.7664, -0.4774]],\n",
       "        grad_fn=<AddmmBackward>))"
      ]
     },
     "execution_count": 13,
     "metadata": {},
     "output_type": "execute_result"
    }
   ],
   "source": [
    "model(torch.tensor([0, 1], dtype=torch.long), torch.tensor([0, 1], dtype=torch.long))"
   ]
  },
  {
   "cell_type": "code",
   "execution_count": 14,
   "metadata": {},
   "outputs": [
    {
     "data": {
      "text/plain": [
       "tensor([0.9987, 0.9899], grad_fn=<SigmoidBackward>)"
      ]
     },
     "execution_count": 14,
     "metadata": {},
     "output_type": "execute_result"
    }
   ],
   "source": [
    "prob, _, _ = model(torch.tensor([0, 1], dtype=torch.long), torch.tensor([0, 1], dtype=torch.long))\n",
    "prob"
   ]
  },
  {
   "cell_type": "code",
   "execution_count": null,
   "metadata": {},
   "outputs": [],
   "source": []
  },
  {
   "cell_type": "markdown",
   "metadata": {},
   "source": [
    "## 学習"
   ]
  },
  {
   "cell_type": "code",
   "execution_count": 15,
   "metadata": {},
   "outputs": [],
   "source": [
    "def train(model, optimizer, loss_func, aspect_loss_func, input_tensor, target, target_aspect_u, target_aspect_i):\n",
    "    \n",
    "    optimizer.zero_grad()\n",
    "\n",
    "    #score = model(batch_path, batch_relation, batch_type, path_num)\n",
    "    prob, aspect_u, aspect_i = model(input_tensor[0], input_tensor[1])\n",
    "    #print(score)\n",
    "    \n",
    "    \n",
    "    # 損失を計算\n",
    "    # aspectの二乗誤差と、リンク予測の分類誤差 \n",
    "    loss = loss_func(prob, target)\n",
    "    aspect_loss = aspect_loss_func(aspect_u, target_aspect_u)\n",
    "    aspect_loss += aspect_loss_func(aspect_i, target_aspect_i)\n",
    "    total_loss = loss + aspect_loss\n",
    "    \n",
    "    # 勾配を計算\n",
    "    total_loss.backward()\n",
    "    \n",
    "    \n",
    "    # 勾配降下\n",
    "    optimizer.step()\n",
    "    \n",
    "    \n",
    "    return float(loss)"
   ]
  },
  {
   "cell_type": "code",
   "execution_count": 16,
   "metadata": {},
   "outputs": [
    {
     "name": "stdout",
     "output_type": "stream",
     "text": [
      "1.9301034212112427\n"
     ]
    }
   ],
   "source": [
    "def test_train():\n",
    "    user_num = len(user_list)\n",
    "    item_num = len(item_list)\n",
    "    aspect_num = 6\n",
    "    embed_size1 = 2\n",
    "    embed_size2 = 3\n",
    "    model = Zhang(user_num, item_num, aspect_num, embed_size1, embed_size2)\n",
    "    \n",
    "    optimizer = optim.Adam(model.parameters())\n",
    "    loss_func = nn.BCELoss()\n",
    "    aspect_loss = nn.MSELoss()\n",
    "    \n",
    "    input = (torch.tensor([0, 1], dtype=torch.long), torch.tensor([0, 1], dtype=torch.long))\n",
    "    target = torch.tensor([1, 0], dtype=torch.float)\n",
    "    target_aspect_u = torch.stack([torch.tensor(user_aspect_dict[user_list[0]]), torch.tensor(user_aspect_dict[user_list[1]])])\n",
    "    target_aspect_i = torch.stack([torch.tensor(item_aspect_dict[item_list[0]]), torch.tensor(item_aspect_dict[item_list[1]])])\n",
    "    \n",
    "    loss = train(model, optimizer, loss_func, aspect_loss, input, target, target_aspect_u, target_aspect_i)\n",
    "    print(loss)\n",
    "\n",
    "test_train()"
   ]
  },
  {
   "cell_type": "markdown",
   "metadata": {},
   "source": [
    "## イテレータ"
   ]
  },
  {
   "cell_type": "code",
   "execution_count": 17,
   "metadata": {},
   "outputs": [],
   "source": [
    "def iterate_train(model, n_iter=30, batch_size=2, learning_rate=0.001, print_every=60, plot_every=30):\n",
    "    \n",
    "    print_loss_total = 0\n",
    "    plot_loss_total = 0\n",
    "    plot_loss_list = []\n",
    "    \n",
    "    start_time = time.time()\n",
    "    \n",
    "    # 損失関数定義\n",
    "    loss_func = nn.BCELoss()\n",
    "    aspect_loss = nn.MSELoss()\n",
    "    \n",
    "    # optimizer 定義\n",
    "    #optimizer = optim.SGD(model.parameters(), lr=learning_rate, weight_decay=0.002)\n",
    "    optimizer = optim.Adam(model.parameters(), lr=learning_rate)\n",
    "    \n",
    "    # ここから学習\n",
    "    loss = 0\n",
    "    for i in range(1, n_iter+1):\n",
    "        # batchをつくる\n",
    "        user_id, item_id, target_aspect_u, target_aspect_i, target_batch = get_batch(train_data, target_train, batch_size)\n",
    "        \n",
    "        #if len(batch_path_tensor) == 0: continue #pathが一つも取得されなかった場合\n",
    "\n",
    "        # train\n",
    "        input_tensor = [user_id, item_id]\n",
    "        loss = train(model, optimizer, loss_func, aspect_loss, input_tensor, target_batch, target_aspect_u, target_aspect_i)\n",
    "        print_loss_total += loss\n",
    "        plot_loss_total += loss\n",
    "        \n",
    "        # print_everyごとに現在の平均のlossと、時間、dataset全体に対する進捗(%)を出力\n",
    "        if i % print_every == 0:\n",
    "            runtime = time.time() - start_time\n",
    "            mi, sec = time_since(runtime)\n",
    "            avg_loss = print_loss_total / print_every\n",
    "            data_percent = int(i * batch_size / train_data.shape[0] * 100)\n",
    "            print('train loss: {:e}    processed: {}({}%)    {}m{}sec'.format(avg_loss, i*batch_size, data_percent, mi, sec))\n",
    "            print_loss_total = 0\n",
    "        \n",
    "        # plot_everyごとplot用のlossをリストに記録しておく\n",
    "        if i % plot_every == 0:\n",
    "            avg_loss = plot_loss_total / plot_every\n",
    "            plot_loss_list.append(avg_loss)\n",
    "            plot_loss_total = 0\n",
    "            \n",
    "\n",
    "    return plot_loss_list\n",
    "    # return print_loss_total"
   ]
  },
  {
   "cell_type": "code",
   "execution_count": 18,
   "metadata": {},
   "outputs": [],
   "source": [
    "def get_batch(data, target, batch_size):\n",
    "    \n",
    "    idx = np.random.randint(0, len(data), batch_size) #重複をゆるしている\n",
    "    user_id = []\n",
    "    item_id = []\n",
    "    user_aspect = []\n",
    "    item_aspect = []\n",
    "    \n",
    "    for path in data[idx]:\n",
    "        user_id.append(user2idx[path[0]])\n",
    "        item_id.append(item2idx[path[1]])\n",
    "        user_aspect.append(user_aspect_dict[path[0]])\n",
    "        item_aspect.append(item_aspect_dict[path[1]])\n",
    "        \n",
    "    user_id = torch.tensor(user_id, dtype=torch.long, device=device)\n",
    "    item_id = torch.tensor(item_id, dtype=torch.long, device=device)\n",
    "    user_aspect = torch.tensor(user_aspect, device=device)\n",
    "    item_aspect = torch.tensor(item_aspect, device=device)\n",
    "    \n",
    "    batch_target = torch.tensor(target[idx], dtype=torch.float, device=device)\n",
    "    \n",
    "    return user_id, item_id, user_aspect, item_aspect, batch_target"
   ]
  },
  {
   "cell_type": "code",
   "execution_count": 19,
   "metadata": {},
   "outputs": [
    {
     "data": {
      "text/plain": [
       "(tensor([4904, 4307], device='cuda:0'),\n",
       " tensor([1730, 1630], device='cuda:0'),\n",
       " tensor([[1.0000, 1.0000, 0.9975, 1.0000, 1.0000, 1.0000],\n",
       "         [1.0000, 1.0000, 0.9975, 0.9999, 0.9526, 0.9991]], device='cuda:0'),\n",
       " tensor([[3.2598e-07, 1.0000e+00, 9.9999e-01, 1.0000e+00, 1.0000e+00, 1.0000e+00],\n",
       "         [1.0000e+00, 1.0000e+00, 9.9920e-01, 6.6632e-01, 1.0000e+00, 1.0000e+00]],\n",
       "        device='cuda:0'),\n",
       " tensor([1., 0.], device='cuda:0'))"
      ]
     },
     "execution_count": 19,
     "metadata": {},
     "output_type": "execute_result"
    }
   ],
   "source": [
    "get_batch(train_data, target_train, 2)"
   ]
  },
  {
   "cell_type": "code",
   "execution_count": null,
   "metadata": {},
   "outputs": [],
   "source": []
  },
  {
   "cell_type": "code",
   "execution_count": 20,
   "metadata": {},
   "outputs": [],
   "source": [
    "def test_iterate():\n",
    "    user_num = len(user_list)\n",
    "    item_num = len(item_list)\n",
    "    aspect_num = 6\n",
    "    embed_size1 = 2\n",
    "    embed_size2 = 3\n",
    "    model = Zhang(user_num, item_num, aspect_num, embed_size1, embed_size2).to(device)\n",
    "\n",
    "    iterate_train(model, n_iter=3)\n",
    "    \n",
    "test_iterate()"
   ]
  },
  {
   "cell_type": "markdown",
   "metadata": {},
   "source": [
    "## Ranking評価"
   ]
  },
  {
   "cell_type": "code",
   "execution_count": 21,
   "metadata": {},
   "outputs": [],
   "source": [
    "%load_ext Cython"
   ]
  },
  {
   "cell_type": "code",
   "execution_count": 22,
   "metadata": {},
   "outputs": [],
   "source": [
    "%%cython\n",
    "def get_user_rankinglist(data, str target_user):\n",
    "    ranking_list = []\n",
    "    for d in data:\n",
    "        if target_user == d[0] or target_user == d[-1]:\n",
    "            ranking_list.append(d)\n",
    "    \n",
    "    return ranking_list"
   ]
  },
  {
   "cell_type": "code",
   "execution_count": 23,
   "metadata": {},
   "outputs": [
    {
     "data": {
      "text/plain": [
       "[]"
      ]
     },
     "execution_count": 23,
     "metadata": {},
     "output_type": "execute_result"
    }
   ],
   "source": [
    "get_user_rankinglist(test_posi, user_list[0])"
   ]
  },
  {
   "cell_type": "code",
   "execution_count": null,
   "metadata": {},
   "outputs": [],
   "source": []
  },
  {
   "cell_type": "code",
   "execution_count": 24,
   "metadata": {},
   "outputs": [],
   "source": [
    "def batch2id(batch_data):\n",
    "    user_id = []\n",
    "    item_id = []\n",
    "    for data in batch_data:\n",
    "        user_id.append(user2idx[data[0]])\n",
    "        item_id.append(item2idx[data[1]])\n",
    "        \n",
    "    return user_id, item_id"
   ]
  },
  {
   "cell_type": "code",
   "execution_count": 28,
   "metadata": {},
   "outputs": [],
   "source": [
    "def evaluate_ranking(model, metric='ndcg', max_item_num=20, stop_count = len(user_list)+1):\n",
    "    with torch.no_grad():\n",
    "        #以下をforで回す\n",
    "        ranking_score_list = []\n",
    "        ranking_score_list1 = []\n",
    "        ranking_score_list2 = []\n",
    "        count = 0\n",
    "\n",
    "        #for (item, user) in test_posi:\n",
    "        for user in user_list:\n",
    "\n",
    "            # あるuserのposiなランキングリストをテストデータから持ってくる\n",
    "            # nega なランキングリストも持ってくる\n",
    "            posi_ranking_list = get_user_rankinglist(test_posi, user)\n",
    "            nega_ranking_list = get_user_rankinglist(test_nega, user)\n",
    "            \n",
    "            # ranking_listを取得できなかった場合\n",
    "            if len(posi_ranking_list) == 0 or len(nega_ranking_list) == 0:\n",
    "                continue\n",
    "\n",
    "            # ランキングリストをバッチ化\n",
    "            batch_data = np.array(posi_ranking_list + nega_ranking_list)\n",
    "            target_batch = [1 for i in range(len(posi_ranking_list))] + [0 for i in range(len(nega_ranking_list))]\n",
    "            \n",
    "\n",
    "            # modelに入力できる形にする\n",
    "            #batch_path_id, batch_relation_id, batch_type_id = get_batch_path(batch_data, target_batch, max_length)\n",
    "            #user_id = []\n",
    "            #item_id = []\n",
    "            #for data in batch_data:\n",
    "            #    user_id.append(user2idx[data[0]])\n",
    "            #    item_id.append(item2idx[data[1]])\n",
    "            #user_id = torch.tensor(user_id, dtype=torch.long, device=device)\n",
    "            #item_id = torch.tensor(item_id, dtype=torch.long, device=device)\n",
    "            user_id = torch.tensor([user2idx[usr] for usr in batch_data[:, 0]], dtype=torch.long, device=device)\n",
    "            item_id = torch.tensor([item2idx[item] for item in batch_data[:, 1]], dtype=torch.long, device=device)\n",
    "            #user_id, item_id = batch2id(batch_data)\n",
    "            #user_id = torch.tensor(user_id)\n",
    "            #item_id = torch.tensor(item_id)\n",
    "\n",
    "            # ランキングリストをmodelに入力\n",
    "            #score = model(batch_path_tensor, batch_relation_tensor, batch_type_tensor, path_num)\n",
    "            prob, _, _ = model(user_id, item_id)\n",
    "            score_list = np.array([prob[i].item() for i in range(len(prob))])\n",
    "\n",
    "            # スコアをソートし、ランキングリストを並び替える\n",
    "            # predicted_ranking = np.array(target_batch)[np.argsort(score_list)]\n",
    "\n",
    "            # PR-AUC, ROC-AUC, NDCGを計算する\n",
    "            if metric == 'map': # sklearn.metrics.average_precision_score\n",
    "                ap = average_precision_score(target_batch, score_list)\n",
    "                ranking_score_list1.append(ap) \n",
    "               \n",
    "                roc = roc_auc_score(target_batch, score_list)\n",
    "                ranking_score_list2.append(roc) \n",
    "                \n",
    "            '''\n",
    "            if metric == 'pr_curve':\n",
    "                #print(score_list)\n",
    "                #print(target_batch)\n",
    "                precision, recall, _ = precision_recall_curve(target_batch, score_list)\n",
    "                \n",
    "            \n",
    "            if metric == 'ndcg':\n",
    "                # スコアをソートし、ランキングリストを並び替える\n",
    "                predicted_ranking = np.array(target_batch)[np.argsort(score_list)][::-1]\n",
    "                ndcg_weight = np.log(np.array(range(len(score_list))) + 1)\n",
    "                ndcg_weight[0] = 1\n",
    "               \n",
    "                ndcg_score = np.sum(predicted_ranking / ndcg_weight)\n",
    "\n",
    "                ndcg_perfect = np.sum(np.array(target_batch) / ndcg_weight)\n",
    "\n",
    "                ranking_score_list.append(ndcg_score / ndcg_perfect)\n",
    "            '''\n",
    "\n",
    "            #count += 1\n",
    "            #if count > stop_count:\n",
    "            #    break\n",
    "                \n",
    "            if count > 30:\n",
    "                break\n",
    "                \n",
    "            count += 1\n",
    "                \n",
    "    return np.mean(np.array(ranking_score_list1)), np.mean(np.array(ranking_score_list2))"
   ]
  },
  {
   "cell_type": "code",
   "execution_count": 29,
   "metadata": {},
   "outputs": [
    {
     "name": "stdout",
     "output_type": "stream",
     "text": [
      "0.7445833333333334 0.5658854166666667\n",
      "0.6091375350952148\n"
     ]
    }
   ],
   "source": [
    "user_num = len(user_list) + 1\n",
    "item_num = len(item_list) + 1\n",
    "aspect_num = 6\n",
    "embed_size1 = 32\n",
    "embed_size2 = 32\n",
    "model = Zhang(user_num, item_num, aspect_num, embed_size1, embed_size2).to(device)\n",
    "\n",
    "start = time.time()\n",
    "pr_auc, roc_auc = evaluate_ranking(model, metric='map')\n",
    "print(pr_auc, roc_auc)\n",
    "print(time.time() - start)"
   ]
  },
  {
   "cell_type": "markdown",
   "metadata": {},
   "source": [
    "## Utils"
   ]
  },
  {
   "cell_type": "code",
   "execution_count": 27,
   "metadata": {},
   "outputs": [],
   "source": [
    "def time_since(runtime):\n",
    "    mi = int(runtime / 60)\n",
    "    sec = int(runtime - mi * 60)\n",
    "    return (mi, sec)"
   ]
  },
  {
   "cell_type": "code",
   "execution_count": 30,
   "metadata": {},
   "outputs": [
    {
     "name": "stdout",
     "output_type": "stream",
     "text": [
      "epoch: 1\n",
      "train loss: 3.345481e+00    processed: 12800(34%)    0m0sec\n",
      "train loss: 3.215069e+00    processed: 25600(69%)    0m0sec\n",
      "pr_roc :0.7296527777777777\n",
      "roc_auc :0.5544270833333333\n",
      "0m0sec\n"
     ]
    },
    {
     "data": {
      "image/png": "[encoded data removed]",
      "text/plain": [
       "<Figure size 432x288 with 1 Axes>"
      ]
     },
     "metadata": {
      "needs_background": "light"
     },
     "output_type": "display_data"
    },
    {
     "name": "stdout",
     "output_type": "stream",
     "text": [
      "----------------------------------------\n",
      "epoch: 2\n",
      "train loss: 2.884404e+00    processed: 12800(34%)    0m0sec\n",
      "train loss: 2.718949e+00    processed: 25600(69%)    0m0sec\n"
     ]
    },
    {
     "data": {
      "image/png": "[encoded data removed]",
      "text/plain": [
       "<Figure size 432x288 with 1 Axes>"
      ]
     },
     "metadata": {
      "needs_background": "light"
     },
     "output_type": "display_data"
    },
    {
     "name": "stdout",
     "output_type": "stream",
     "text": [
      "----------------------------------------\n",
      "epoch: 3\n",
      "train loss: 2.605807e+00    processed: 12800(34%)    0m0sec\n",
      "train loss: 2.471168e+00    processed: 25600(69%)    0m0sec\n"
     ]
    },
    {
     "data": {
      "image/png": "[encoded data removed]",
      "text/plain": [
       "<Figure size 432x288 with 1 Axes>"
      ]
     },
     "metadata": {
      "needs_background": "light"
     },
     "output_type": "display_data"
    },
    {
     "name": "stdout",
     "output_type": "stream",
     "text": [
      "----------------------------------------\n",
      "epoch: 4\n",
      "train loss: 2.312514e+00    processed: 12800(34%)    0m0sec\n",
      "train loss: 2.195819e+00    processed: 25600(69%)    0m0sec\n"
     ]
    },
    {
     "data": {
      "image/png": "[encoded data removed]",
      "text/plain": [
       "<Figure size 432x288 with 1 Axes>"
      ]
     },
     "metadata": {
      "needs_background": "light"
     },
     "output_type": "display_data"
    },
    {
     "name": "stdout",
     "output_type": "stream",
     "text": [
      "----------------------------------------\n",
      "epoch: 5\n",
      "train loss: 2.006065e+00    processed: 12800(34%)    0m0sec\n",
      "train loss: 1.941623e+00    processed: 25600(69%)    0m0sec\n"
     ]
    },
    {
     "data": {
      "image/png": "[encoded data removed]",
      "text/plain": [
       "<Figure size 432x288 with 1 Axes>"
      ]
     },
     "metadata": {
      "needs_background": "light"
     },
     "output_type": "display_data"
    },
    {
     "name": "stdout",
     "output_type": "stream",
     "text": [
      "----------------------------------------\n",
      "epoch: 6\n",
      "train loss: 1.847900e+00    processed: 12800(34%)    0m0sec\n",
      "train loss: 1.767088e+00    processed: 25600(69%)    0m0sec\n",
      "pr_roc :0.8234027777777777\n",
      "roc_auc :0.7106770833333333\n",
      "0m0sec\n"
     ]
    },
    {
     "data": {
      "image/png": "[encoded data removed]",
      "text/plain": [
       "<Figure size 432x288 with 1 Axes>"
      ]
     },
     "metadata": {
      "needs_background": "light"
     },
     "output_type": "display_data"
    },
    {
     "name": "stdout",
     "output_type": "stream",
     "text": [
      "----------------------------------------\n",
      "epoch: 7\n",
      "train loss: 1.690678e+00    processed: 12800(34%)    0m0sec\n",
      "train loss: 1.582392e+00    processed: 25600(69%)    0m0sec\n"
     ]
    },
    {
     "data": {
      "image/png": "[encoded data removed]",
      "text/plain": [
       "<Figure size 432x288 with 1 Axes>"
      ]
     },
     "metadata": {
      "needs_background": "light"
     },
     "output_type": "display_data"
    },
    {
     "name": "stdout",
     "output_type": "stream",
     "text": [
      "----------------------------------------\n",
      "epoch: 8\n",
      "train loss: 1.522214e+00    processed: 12800(34%)    0m0sec\n",
      "train loss: 1.419603e+00    processed: 25600(69%)    0m0sec\n"
     ]
    },
    {
     "data": {
      "image/png": "[encoded data removed]",
      "text/plain": [
       "<Figure size 432x288 with 1 Axes>"
      ]
     },
     "metadata": {
      "needs_background": "light"
     },
     "output_type": "display_data"
    },
    {
     "name": "stdout",
     "output_type": "stream",
     "text": [
      "----------------------------------------\n",
      "epoch: 9\n",
      "train loss: 1.339180e+00    processed: 12800(34%)    0m0sec\n",
      "train loss: 1.309809e+00    processed: 25600(69%)    0m0sec\n"
     ]
    },
    {
     "data": {
      "image/png": "[encoded data removed]",
      "text/plain": [
       "<Figure size 432x288 with 1 Axes>"
      ]
     },
     "metadata": {
      "needs_background": "light"
     },
     "output_type": "display_data"
    },
    {
     "name": "stdout",
     "output_type": "stream",
     "text": [
      "----------------------------------------\n",
      "epoch: 10\n",
      "train loss: 1.239298e+00    processed: 12800(34%)    0m0sec\n",
      "train loss: 1.234158e+00    processed: 25600(69%)    0m0sec\n"
     ]
    },
    {
     "data": {
      "image/png": "[encoded data removed]",
      "text/plain": [
       "<Figure size 432x288 with 1 Axes>"
      ]
     },
     "metadata": {
      "needs_background": "light"
     },
     "output_type": "display_data"
    },
    {
     "name": "stdout",
     "output_type": "stream",
     "text": [
      "----------------------------------------\n",
      "epoch: 11\n",
      "train loss: 1.117266e+00    processed: 12800(34%)    0m0sec\n",
      "train loss: 1.136038e+00    processed: 25600(69%)    0m0sec\n",
      "pr_roc :0.8098611111111111\n",
      "roc_auc :0.6888020833333334\n",
      "0m0sec\n"
     ]
    },
    {
     "data": {
      "image/png": "[encoded data removed]",
      "text/plain": [
       "<Figure size 432x288 with 1 Axes>"
      ]
     },
     "metadata": {
      "needs_background": "light"
     },
     "output_type": "display_data"
    },
    {
     "name": "stdout",
     "output_type": "stream",
     "text": [
      "----------------------------------------\n",
      "epoch: 12\n",
      "train loss: 1.089415e+00    processed: 12800(34%)    0m0sec\n",
      "train loss: 1.068634e+00    processed: 25600(69%)    0m0sec\n"
     ]
    },
    {
     "ename": "KeyboardInterrupt",
     "evalue": "",
     "output_type": "error",
     "traceback": [
      "\u001b[0;31m---------------------------------------------------------------------------\u001b[0m",
      "\u001b[0;31mKeyboardInterrupt\u001b[0m                         Traceback (most recent call last)",
      "\u001b[0;32m<ipython-input-30-d3886179d75e>\u001b[0m in \u001b[0;36m<module>\u001b[0;34m\u001b[0m\n\u001b[1;32m     19\u001b[0m     \u001b[0;32mfor\u001b[0m \u001b[0mi\u001b[0m \u001b[0;32min\u001b[0m \u001b[0mrange\u001b[0m\u001b[0;34m(\u001b[0m\u001b[0mepoch\u001b[0m\u001b[0;34m)\u001b[0m\u001b[0;34m:\u001b[0m\u001b[0;34m\u001b[0m\u001b[0;34m\u001b[0m\u001b[0m\n\u001b[1;32m     20\u001b[0m         \u001b[0mprint\u001b[0m\u001b[0;34m(\u001b[0m\u001b[0;34m'epoch: {}'\u001b[0m\u001b[0;34m.\u001b[0m\u001b[0mformat\u001b[0m\u001b[0;34m(\u001b[0m\u001b[0mi\u001b[0m\u001b[0;34m+\u001b[0m\u001b[0;36m1\u001b[0m\u001b[0;34m)\u001b[0m\u001b[0;34m)\u001b[0m\u001b[0;34m\u001b[0m\u001b[0;34m\u001b[0m\u001b[0m\n\u001b[0;32m---> 21\u001b[0;31m         \u001b[0mloss_list\u001b[0m\u001b[0;34m.\u001b[0m\u001b[0mextend\u001b[0m\u001b[0;34m(\u001b[0m\u001b[0miterate_train\u001b[0m\u001b[0;34m(\u001b[0m\u001b[0mmodel\u001b[0m\u001b[0;34m,\u001b[0m \u001b[0mn_iter\u001b[0m\u001b[0;34m=\u001b[0m\u001b[0mn_iter\u001b[0m\u001b[0;34m,\u001b[0m \u001b[0mbatch_size\u001b[0m\u001b[0;34m=\u001b[0m\u001b[0mbatch_size\u001b[0m\u001b[0;34m,\u001b[0m \u001b[0mlearning_rate\u001b[0m\u001b[0;34m=\u001b[0m\u001b[0mlr\u001b[0m\u001b[0;34m,\u001b[0m \u001b[0mprint_every\u001b[0m\u001b[0;34m=\u001b[0m\u001b[0;36m100\u001b[0m\u001b[0;34m,\u001b[0m \u001b[0mplot_every\u001b[0m\u001b[0;34m=\u001b[0m\u001b[0;36m100\u001b[0m\u001b[0;34m)\u001b[0m\u001b[0;34m)\u001b[0m\u001b[0;34m\u001b[0m\u001b[0;34m\u001b[0m\u001b[0m\n\u001b[0m\u001b[1;32m     22\u001b[0m \u001b[0;34m\u001b[0m\u001b[0m\n\u001b[1;32m     23\u001b[0m         \u001b[0;32mif\u001b[0m \u001b[0mi\u001b[0m \u001b[0;34m%\u001b[0m \u001b[0mevaluate_every\u001b[0m \u001b[0;34m==\u001b[0m \u001b[0;36m0\u001b[0m\u001b[0;34m:\u001b[0m\u001b[0;34m\u001b[0m\u001b[0;34m\u001b[0m\u001b[0m\n",
      "\u001b[0;32m<ipython-input-17-6803ac5a6c61>\u001b[0m in \u001b[0;36miterate_train\u001b[0;34m(model, n_iter, batch_size, learning_rate, print_every, plot_every)\u001b[0m\n\u001b[1;32m     25\u001b[0m         \u001b[0;31m# train\u001b[0m\u001b[0;34m\u001b[0m\u001b[0;34m\u001b[0m\u001b[0;34m\u001b[0m\u001b[0m\n\u001b[1;32m     26\u001b[0m         \u001b[0minput_tensor\u001b[0m \u001b[0;34m=\u001b[0m \u001b[0;34m[\u001b[0m\u001b[0muser_id\u001b[0m\u001b[0;34m,\u001b[0m \u001b[0mitem_id\u001b[0m\u001b[0;34m]\u001b[0m\u001b[0;34m\u001b[0m\u001b[0;34m\u001b[0m\u001b[0m\n\u001b[0;32m---> 27\u001b[0;31m         \u001b[0mloss\u001b[0m \u001b[0;34m=\u001b[0m \u001b[0mtrain\u001b[0m\u001b[0;34m(\u001b[0m\u001b[0mmodel\u001b[0m\u001b[0;34m,\u001b[0m \u001b[0moptimizer\u001b[0m\u001b[0;34m,\u001b[0m \u001b[0mloss_func\u001b[0m\u001b[0;34m,\u001b[0m \u001b[0maspect_loss\u001b[0m\u001b[0;34m,\u001b[0m \u001b[0minput_tensor\u001b[0m\u001b[0;34m,\u001b[0m \u001b[0mtarget_batch\u001b[0m\u001b[0;34m,\u001b[0m \u001b[0mtarget_aspect_u\u001b[0m\u001b[0;34m,\u001b[0m \u001b[0mtarget_aspect_i\u001b[0m\u001b[0;34m)\u001b[0m\u001b[0;34m\u001b[0m\u001b[0;34m\u001b[0m\u001b[0m\n\u001b[0m\u001b[1;32m     28\u001b[0m         \u001b[0mprint_loss_total\u001b[0m \u001b[0;34m+=\u001b[0m \u001b[0mloss\u001b[0m\u001b[0;34m\u001b[0m\u001b[0;34m\u001b[0m\u001b[0m\n\u001b[1;32m     29\u001b[0m         \u001b[0mplot_loss_total\u001b[0m \u001b[0;34m+=\u001b[0m \u001b[0mloss\u001b[0m\u001b[0;34m\u001b[0m\u001b[0;34m\u001b[0m\u001b[0m\n",
      "\u001b[0;32m<ipython-input-15-ee855a8c8eb2>\u001b[0m in \u001b[0;36mtrain\u001b[0;34m(model, optimizer, loss_func, aspect_loss_func, input_tensor, target, target_aspect_u, target_aspect_i)\u001b[0m\n\u001b[1;32m     16\u001b[0m \u001b[0;34m\u001b[0m\u001b[0m\n\u001b[1;32m     17\u001b[0m     \u001b[0;31m# 勾配を計算\u001b[0m\u001b[0;34m\u001b[0m\u001b[0;34m\u001b[0m\u001b[0;34m\u001b[0m\u001b[0m\n\u001b[0;32m---> 18\u001b[0;31m     \u001b[0mtotal_loss\u001b[0m\u001b[0;34m.\u001b[0m\u001b[0mbackward\u001b[0m\u001b[0;34m(\u001b[0m\u001b[0;34m)\u001b[0m\u001b[0;34m\u001b[0m\u001b[0;34m\u001b[0m\u001b[0m\n\u001b[0m\u001b[1;32m     19\u001b[0m \u001b[0;34m\u001b[0m\u001b[0m\n\u001b[1;32m     20\u001b[0m \u001b[0;34m\u001b[0m\u001b[0m\n",
      "\u001b[0;32m/opt/conda/lib/python3.6/site-packages/torch/tensor.py\u001b[0m in \u001b[0;36mbackward\u001b[0;34m(self, gradient, retain_graph, create_graph)\u001b[0m\n\u001b[1;32m    100\u001b[0m                 \u001b[0mproducts\u001b[0m\u001b[0;34m.\u001b[0m \u001b[0mDefaults\u001b[0m \u001b[0mto\u001b[0m\u001b[0;31m \u001b[0m\u001b[0;31m`\u001b[0m\u001b[0;31m`\u001b[0m\u001b[0;32mFalse\u001b[0m\u001b[0;31m`\u001b[0m\u001b[0;31m`\u001b[0m\u001b[0;34m.\u001b[0m\u001b[0;34m\u001b[0m\u001b[0;34m\u001b[0m\u001b[0m\n\u001b[1;32m    101\u001b[0m         \"\"\"\n\u001b[0;32m--> 102\u001b[0;31m         \u001b[0mtorch\u001b[0m\u001b[0;34m.\u001b[0m\u001b[0mautograd\u001b[0m\u001b[0;34m.\u001b[0m\u001b[0mbackward\u001b[0m\u001b[0;34m(\u001b[0m\u001b[0mself\u001b[0m\u001b[0;34m,\u001b[0m \u001b[0mgradient\u001b[0m\u001b[0;34m,\u001b[0m \u001b[0mretain_graph\u001b[0m\u001b[0;34m,\u001b[0m \u001b[0mcreate_graph\u001b[0m\u001b[0;34m)\u001b[0m\u001b[0;34m\u001b[0m\u001b[0;34m\u001b[0m\u001b[0m\n\u001b[0m\u001b[1;32m    103\u001b[0m \u001b[0;34m\u001b[0m\u001b[0m\n\u001b[1;32m    104\u001b[0m     \u001b[0;32mdef\u001b[0m \u001b[0mregister_hook\u001b[0m\u001b[0;34m(\u001b[0m\u001b[0mself\u001b[0m\u001b[0;34m,\u001b[0m \u001b[0mhook\u001b[0m\u001b[0;34m)\u001b[0m\u001b[0;34m:\u001b[0m\u001b[0;34m\u001b[0m\u001b[0;34m\u001b[0m\u001b[0m\n",
      "\u001b[0;32m/opt/conda/lib/python3.6/site-packages/torch/autograd/__init__.py\u001b[0m in \u001b[0;36mbackward\u001b[0;34m(tensors, grad_tensors, retain_graph, create_graph, grad_variables)\u001b[0m\n\u001b[1;32m     88\u001b[0m     Variable._execution_engine.run_backward(\n\u001b[1;32m     89\u001b[0m         \u001b[0mtensors\u001b[0m\u001b[0;34m,\u001b[0m \u001b[0mgrad_tensors\u001b[0m\u001b[0;34m,\u001b[0m \u001b[0mretain_graph\u001b[0m\u001b[0;34m,\u001b[0m \u001b[0mcreate_graph\u001b[0m\u001b[0;34m,\u001b[0m\u001b[0;34m\u001b[0m\u001b[0;34m\u001b[0m\u001b[0m\n\u001b[0;32m---> 90\u001b[0;31m         allow_unreachable=True)  # allow_unreachable flag\n\u001b[0m\u001b[1;32m     91\u001b[0m \u001b[0;34m\u001b[0m\u001b[0m\n\u001b[1;32m     92\u001b[0m \u001b[0;34m\u001b[0m\u001b[0m\n",
      "\u001b[0;31mKeyboardInterrupt\u001b[0m: "
     ]
    }
   ],
   "source": [
    "if __name__ == '__main__':\n",
    "    # 諸々のサイズ\n",
    "    batch_size = 128\n",
    "    # Model 定義\n",
    "    user_num = len(user_list) + 1\n",
    "    item_num = len(item_list) + 1\n",
    "    aspect_num = 6\n",
    "    embed_size1 = 32\n",
    "    embed_size2 = 32\n",
    "    model = Zhang(user_num, item_num, aspect_num, embed_size1, embed_size2).to(device)\n",
    "    \n",
    "    epoch = 1000\n",
    "    evaluate_every = 5 #evaluate_everyごとにtestデータのndcgを計算\n",
    "    n_iter = int(len(train_data) / batch_size)\n",
    "    loss_list = []\n",
    "    ndcg_list = []\n",
    "    lr = 0.001\n",
    "    decay_every = 10\n",
    "    for i in range(epoch):\n",
    "        print('epoch: {}'.format(i+1))\n",
    "        loss_list.extend(iterate_train(model, n_iter=n_iter, batch_size=batch_size, learning_rate=lr, print_every=100, plot_every=100))\n",
    "        \n",
    "        if i % evaluate_every == 0:\n",
    "            #roc_auc = evaluate_ranking(rnn, metric='roc_auc')\n",
    "            start = time.time()\n",
    "            pr_auc, roc_auc = evaluate_ranking(model, metric='map')\n",
    "            mi, sec = time_since(time.time() - start)\n",
    "            print('pr_roc :{}'.format(pr_auc))\n",
    "            print('roc_auc :{}'.format(roc_auc))\n",
    "            print('{}m{}sec'.format(mi, sec))\n",
    "            \n",
    "            # modelを保存する\n",
    "            # model_name = 'gru_epoch' + str(i) + '.pickle'\n",
    "            # with open('./rnn_atten_model/' + model_name, 'wb') as f:\n",
    "            #    pickle.dump(model, f)\n",
    "                            \n",
    "                            \n",
    "        plt.plot(loss_list)\n",
    "        plt.show()\n",
    "        \n",
    "        if (i+1) % decay_every == 0:\n",
    "            #lr = lr / 2\n",
    "            lr = lr * 0.8\n",
    "        \n",
    "        print('-'*40)"
   ]
  },
  {
   "cell_type": "code",
   "execution_count": null,
   "metadata": {},
   "outputs": [],
   "source": []
  },
  {
   "cell_type": "code",
   "execution_count": null,
   "metadata": {},
   "outputs": [],
   "source": []
  },
  {
   "cell_type": "code",
   "execution_count": null,
   "metadata": {},
   "outputs": [],
   "source": []
  },
  {
   "cell_type": "code",
   "execution_count": 39,
   "metadata": {},
   "outputs": [],
   "source": [
    "def test(): \n",
    "    # 諸々のサイズ\n",
    "    batch_size = 512\n",
    "    # Model 定義\n",
    "    user_num = len(user_list)\n",
    "    item_num = len(item_list)\n",
    "    aspect_num = 6\n",
    "    embed_size1 = 32\n",
    "    embed_size2 = 32\n",
    "    model = Zhang(user_num, item_num, aspect_num, embed_size1, embed_size2).to(device)\n",
    "    \n",
    "    epoch = 2\n",
    "    evaluate_every = 1 #evaluate_everyごとにtestデータのndcgを計算\n",
    "    n_iter = int(len(train_data) / batch_size)\n",
    "    loss_list = []\n",
    "    ndcg_list = []\n",
    "    lr = 0.001\n",
    "    decay_every = 10\n",
    "    for i in range(epoch):\n",
    "        print('epoch: {}'.format(i+1))\n",
    "        loss_list.extend(iterate_train(model, n_iter=1000, batch_size=batch_size, learning_rate=lr, print_every=1, plot_every=1))\n",
    "        \n",
    "        if i % evaluate_every == 0:\n",
    "            #roc_auc = evaluate_ranking(rnn, metric='roc_auc')\n",
    "            pr_auc, roc_auc = evaluate_ranking(model, metric='map')\n",
    "            print('pr_roc :{}'.format(pr_auc))\n",
    "            print('roc_auc :{}'.format(roc_auc))\n",
    "            \n",
    "            # modelを保存する\n",
    "            model_name = 'gru_epoch' + str(i) + '.pickle'\n",
    "            with open('./rnn_atten_model/' + model_name, 'wb') as f:\n",
    "                pickle.dump(model, f)\n",
    "                            \n",
    "                            \n",
    "        plt.plot(loss_list)\n",
    "        plt.show()\n",
    "        \n",
    "        if (i+1) % decay_every == 0:\n",
    "            #lr = lr / 2\n",
    "            lr = lr * 0.8\n",
    "        \n",
    "        print('-'*40)"
   ]
  },
  {
   "cell_type": "code",
   "execution_count": null,
   "metadata": {},
   "outputs": [],
   "source": []
  }
 ],
 "metadata": {
  "kernelspec": {
   "display_name": "Python 3",
   "language": "python",
   "name": "python3"
  },
  "language_info": {
   "codemirror_mode": {
    "name": "ipython",
    "version": 3
   },
   "file_extension": ".py",
   "mimetype": "text/x-python",
   "name": "python",
   "nbconvert_exporter": "python",
   "pygments_lexer": "ipython3",
   "version": "3.6.8"
  }
 },
 "nbformat": 4,
 "nbformat_minor": 2
}
